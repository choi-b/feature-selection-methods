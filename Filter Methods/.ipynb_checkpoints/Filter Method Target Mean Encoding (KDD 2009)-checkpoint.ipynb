{
 "cells": [
  {
   "cell_type": "markdown",
   "metadata": {},
   "source": [
    "## Method Description\n",
    "\n",
    "1. Divide original dataset into train and test\n",
    "2. Use train dataset to derive the mean target values per category that we will use to replace the original category values of the variables (intervals for numerical variables)\n",
    "3. In the test dataset, encode numerical and categorical variables with the target mean\n",
    "4. With this encoding/prediction, we try to determine the performance metric"
   ]
  },
  {
   "cell_type": "markdown",
   "metadata": {},
   "source": [
    "## Mean Coding: Example\n",
    "\n",
    "##### Categorical Variables\n",
    "Color: 3 red (target 1, 0, 1), 2 blue (target 1, 1), 2 green (target 0, 0), 2 yellow (target 1, 0) out of 10 total colors\n",
    "\n",
    "* Mean for red: 0.66 (2 out of 3 with target=1)\n",
    "* Mean for blue: 1 (2 out of 2)\n",
    "* Mean for Green: 0 (0 out of 2)\n",
    "* Mean for Yellow: 0.5 (1 out of 2)\n",
    "\n",
    "Capture this as a dictionary in Python: {Red:0.66, Blue:1, Green:0, Yellow:0.5}  \n",
    "Replace all Target values (0s and 1s) with these \"mean\", hence \"mean encoding\"  \n",
    "With the encoding and the target, derive a performance metric\n",
    "\n",
    "##### Numerical Variables\n",
    "For example, if we have the continuous variable, price, we can put them in bins, e.g. [1-5],[6-10],[11-15], etc.\n",
    "Do the same using these intervals as \"categories\"\n",
    "\n",
    "### Using a performance metric (for example, the ROC-AUC)\n",
    "* Obtain a performance metric for each feature\n",
    "* then <b>RANK</b> the features by the best performance metric (best features)\n",
    "\n",
    "We can use any performance metrics we like:\n",
    "* (Classification) ROC-AUC, accuracy, precision, recall, etc.\n",
    "* (Regression) MSE, RMSE, R-squared, etc.\n",
    "* Different metrics may lead to different selected features"
   ]
  },
  {
   "cell_type": "markdown",
   "metadata": {},
   "source": [
    "# Example Demo"
   ]
  },
  {
   "cell_type": "code",
   "execution_count": null,
   "metadata": {},
   "outputs": [],
   "source": []
  }
 ],
 "metadata": {
  "kernelspec": {
   "display_name": "Python 3",
   "language": "python",
   "name": "python3"
  },
  "language_info": {
   "codemirror_mode": {
    "name": "ipython",
    "version": 3
   },
   "file_extension": ".py",
   "mimetype": "text/x-python",
   "name": "python",
   "nbconvert_exporter": "python",
   "pygments_lexer": "ipython3",
   "version": "3.8.3"
  }
 },
 "nbformat": 4,
 "nbformat_minor": 4
}
