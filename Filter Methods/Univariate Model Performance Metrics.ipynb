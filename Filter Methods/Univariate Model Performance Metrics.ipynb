{
 "cells": [
  {
   "cell_type": "markdown",
   "metadata": {},
   "source": [
    "### We can use any ML algorithm\n",
    "* Build a model to predict a single feature and obtains a performance metric\n",
    "\n",
    "### Performance metric\n",
    "* we can use any performance metric we like\n",
    "* Predicting a binary target:\n",
    "    * ROC-AUC, accuracy, precision, recall, etc\n",
    "* Classification model\n",
    "    * MSE, RMSE, R-squared, etc.\n",
    "\n",
    "* Feature subsets may depend on:\n",
    "    * ML algorithm used\n",
    "        * This method is not model agnostic\n",
    "    * Metric used\n",
    "\n"
   ]
  },
  {
   "cell_type": "code",
   "execution_count": 1,
   "metadata": {},
   "outputs": [],
   "source": [
    "import pandas as pd\n",
    "import numpy as np\n",
    "\n",
    "import matplotlib.pyplot as plt\n",
    "\n",
    "from sklearn.model_selection import train_test_split\n",
    "\n",
    "from sklearn.tree import DecisionTreeClassifier, DecisionTreeRegressor\n",
    "from sklearn.metrics import roc_auc_score, mean_squared_error"
   ]
  },
  {
   "cell_type": "code",
   "execution_count": 3,
   "metadata": {},
   "outputs": [
    {
     "data": {
      "text/plain": [
       "(50000, 109)"
      ]
     },
     "execution_count": 3,
     "metadata": {},
     "output_type": "execute_result"
    }
   ],
   "source": [
    "# load dataset\n",
    "data = pd.read_csv('../precleaned-datasets/dataset_2.csv')\n",
    "data.shape"
   ]
  },
  {
   "cell_type": "code",
   "execution_count": 4,
   "metadata": {},
   "outputs": [
    {
     "data": {
      "text/plain": [
       "((35000, 108), (15000, 108))"
      ]
     },
     "execution_count": 4,
     "metadata": {},
     "output_type": "execute_result"
    }
   ],
   "source": [
    "# separate train and test sets\n",
    "X_train, X_test, y_train, y_test = train_test_split(\n",
    "    data.drop(labels=['target'], axis=1),\n",
    "    data['target'],\n",
    "    test_size=0.3,\n",
    "    random_state=0)\n",
    "\n",
    "X_train.shape, X_test.shape"
   ]
  },
  {
   "cell_type": "markdown",
   "metadata": {},
   "source": [
    "Example Procedure steps:\\\n",
    "1) Builds one decision tree per feature to predict the target\\\n",
    "2) Makes predictions using the decision tree and the mentioned feature\\\n",
    "3) Measures the performance of that prediction, using ROC-AUC, MSE, etc.\\\n",
    "4) Ranks the features according to the ML metric\\\n",
    "5) Selects the highest ranking features\\"
   ]
  },
  {
   "cell_type": "markdown",
   "metadata": {},
   "source": [
    "### Determine roc-auc for each feature\n"
   ]
  },
  {
   "cell_type": "code",
   "execution_count": 5,
   "metadata": {},
   "outputs": [
    {
     "data": {
      "text/plain": [
       "[0.5069248231292061,\n",
       " 0.5006908738145861,\n",
       " 0.4931445654646017,\n",
       " 0.5039101753068067,\n",
       " 0.5014351366034588,\n",
       " 0.5028347252717772,\n",
       " 0.5095234564543892,\n",
       " 0.5062626193645395,\n",
       " 0.4913455716601861,\n",
       " 0.5066196352647712]"
      ]
     },
     "execution_count": 5,
     "metadata": {},
     "output_type": "execute_result"
    }
   ],
   "source": [
    "# here we store the roc-auc values\n",
    "roc_values = []\n",
    "\n",
    "# iterate over each feature in the dataset\n",
    "for feature in X_train.columns:\n",
    "\n",
    "    # train a decision tree classifier\n",
    "    clf = DecisionTreeClassifier(random_state=0)\n",
    "    clf.fit(X_train[feature].fillna(0).to_frame(), y_train)\n",
    "\n",
    "    # obtain the predictions\n",
    "    y_scored = clf.predict_proba(X_test[feature].to_frame())\n",
    "\n",
    "    # calculate and store the roc-auc\n",
    "    roc_values.append(roc_auc_score(y_test, y_scored[:, 1]))\n",
    "    \n",
    "# display the result\n",
    "roc_values[0:10]"
   ]
  },
  {
   "cell_type": "code",
   "execution_count": 6,
   "metadata": {},
   "outputs": [
    {
     "data": {
      "text/plain": [
       "Text(0, 0.5, 'roc-auc')"
      ]
     },
     "execution_count": 6,
     "metadata": {},
     "output_type": "execute_result"
    },
    {
     "data": {
      "image/png": "[encoded data removed]",
      "text/plain": [
       "<Figure size 1440x360 with 1 Axes>"
      ]
     },
     "metadata": {
      "needs_background": "light"
     },
     "output_type": "display_data"
    }
   ],
   "source": [
    "# now let's:\n",
    "\n",
    "# 1) capture the roc-auc values in a pandas series\n",
    "# 2) add the variable names in the index\n",
    "# 3) sort the features based on the roc-auc\n",
    "# 4) and make a var plot\n",
    "\n",
    "roc_values = pd.Series(roc_values)\n",
    "roc_values.index = X_train.columns\n",
    "roc_values.sort_values(ascending=False).plot.bar(figsize=(20, 5))\n",
    "plt.ylabel('roc-auc')"
   ]
  },
  {
   "cell_type": "code",
   "execution_count": 7,
   "metadata": {},
   "outputs": [
    {
     "data": {
      "text/plain": [
       "67"
      ]
     },
     "execution_count": 7,
     "metadata": {},
     "output_type": "execute_result"
    }
   ],
   "source": [
    "# a roc auc value of 0.5 indicates random decision\n",
    "# let's check how many features show a roc-auc value\n",
    "# higher than random\n",
    "\n",
    "len(roc_values[roc_values > 0.5])"
   ]
  },
  {
   "cell_type": "markdown",
   "metadata": {},
   "source": [
    "### Select features with ROC-AUC > 0.5"
   ]
  },
  {
   "cell_type": "code",
   "execution_count": 8,
   "metadata": {},
   "outputs": [
    {
     "data": {
      "text/plain": [
       "Index(['var_1', 'var_2', 'var_4', 'var_5', 'var_6', 'var_7', 'var_8', 'var_10',\n",
       "       'var_11', 'var_12', 'var_13', 'var_14', 'var_15', 'var_16', 'var_18',\n",
       "       'var_21', 'var_22', 'var_23', 'var_25', 'var_26', 'var_27', 'var_28',\n",
       "       'var_29', 'var_30', 'var_33', 'var_34', 'var_35', 'var_38', 'var_39',\n",
       "       'var_43', 'var_44', 'var_46', 'var_47', 'var_48', 'var_50', 'var_51',\n",
       "       'var_52', 'var_53', 'var_54', 'var_55', 'var_57', 'var_59', 'var_65',\n",
       "       'var_67', 'var_69', 'var_70', 'var_71', 'var_72', 'var_74', 'var_75',\n",
       "       'var_78', 'var_80', 'var_82', 'var_83', 'var_84', 'var_85', 'var_88',\n",
       "       'var_91', 'var_94', 'var_96', 'var_97', 'var_98', 'var_100', 'var_101',\n",
       "       'var_105', 'var_106', 'var_108'],\n",
       "      dtype='object')"
      ]
     },
     "execution_count": 8,
     "metadata": {},
     "output_type": "execute_result"
    }
   ],
   "source": [
    "selected_features = roc_values[roc_values > 0.5].index\n",
    "\n",
    "selected_features"
   ]
  },
  {
   "cell_type": "code",
   "execution_count": 9,
   "metadata": {},
   "outputs": [
    {
     "data": {
      "text/plain": [
       "((35000, 67), (15000, 67))"
      ]
     },
     "execution_count": 9,
     "metadata": {},
     "output_type": "execute_result"
    }
   ],
   "source": [
    "# select features in the dataframes\n",
    "\n",
    "X_train = X_train[selected_features]\n",
    "X_test = X_test[selected_features]\n",
    "\n",
    "X_train.shape, X_test.shape"
   ]
  },
  {
   "cell_type": "markdown",
   "metadata": {},
   "source": [
    "### Determine the univariate MSE"
   ]
  },
  {
   "cell_type": "code",
   "execution_count": 11,
   "metadata": {},
   "outputs": [
    {
     "data": {
      "text/plain": [
       "[0.3158693151309205,\n",
       " 0.35689993065880055,\n",
       " 0.35537059712774,\n",
       " 0.3465721177199759,\n",
       " 0.3456929373815704,\n",
       " 0.34822014814814817,\n",
       " 0.32979917124514124,\n",
       " 0.3418303081659845,\n",
       " 0.3386304227739404,\n",
       " 0.3576467962962963]"
      ]
     },
     "execution_count": 11,
     "metadata": {},
     "output_type": "execute_result"
    }
   ],
   "source": [
    "# determine mse for each feature\n",
    "\n",
    "# here we store the mse values\n",
    "mse_values = []\n",
    "\n",
    "# iterate over each variable\n",
    "for feature in X_train.columns:\n",
    "    \n",
    "    # train a decision tree\n",
    "    clf = DecisionTreeRegressor(random_state=0)\n",
    "    clf.fit(X_train[feature].fillna(0).to_frame(), y_train)\n",
    "    \n",
    "    # make a prediction\n",
    "    y_scored = clf.predict(X_test[feature].fillna(0).to_frame())\n",
    "    \n",
    "    # determine the mse and store it\n",
    "    mse_values.append(mean_squared_error(y_test, y_scored))\n",
    "    \n",
    "    \n",
    "# display the result\n",
    "mse_values[0:10]"
   ]
  },
  {
   "cell_type": "code",
   "execution_count": 12,
   "metadata": {},
   "outputs": [
    {
     "data": {
      "text/plain": [
       "<matplotlib.axes._subplots.AxesSubplot at 0x1fec3fbcb80>"
      ]
     },
     "execution_count": 12,
     "metadata": {},
     "output_type": "execute_result"
    },
    {
     "data": {
      "image/png": "[encoded data removed]",
      "text/plain": [
       "<Figure size 1440x576 with 1 Axes>"
      ]
     },
     "metadata": {
      "needs_background": "light"
     },
     "output_type": "display_data"
    }
   ],
   "source": [
    "# now let's:\n",
    "\n",
    "# 1) capture the mse values in a pandas series\n",
    "# 2) add the variable names in the index\n",
    "# 3) sort the features based on the mse\n",
    "# 4) and make a var plot\n",
    "\n",
    "mse_values = pd.Series(mse_values)\n",
    "mse_values.index = X_train.columns\n",
    "mse_values.sort_values(ascending=False).plot.bar(figsize=(20,8))"
   ]
  },
  {
   "cell_type": "markdown",
   "metadata": {},
   "source": [
    "#### Post saying univariate feature selection is generally a poor method\n",
    "https://stats.stackexchange.com/questions/261671/roc-as-feature-selection"
   ]
  }
 ],
 "metadata": {
  "kernelspec": {
   "display_name": "Python 3",
   "language": "python",
   "name": "python3"
  },
  "language_info": {
   "codemirror_mode": {
    "name": "ipython",
    "version": 3
   },
   "file_extension": ".py",
   "mimetype": "text/x-python",
   "name": "python",
   "nbconvert_exporter": "python",
   "pygments_lexer": "ipython3",
   "version": "3.8.3"
  }
 },
 "nbformat": 4,
 "nbformat_minor": 4
}
