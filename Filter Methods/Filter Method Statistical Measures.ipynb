{
 "cells": [
  {
   "cell_type": "markdown",
   "metadata": {},
   "source": [
    "# Overview\n",
    "Statistical-ranking methods include:\n",
    "* Information Gain\n",
    "* Fisher Score\n",
    "* Univariate Tests\n",
    "* Univariate ROC/AUC/RMSE (Section 6)\n",
    "\n",
    "#### Steps:\n",
    "1) Rank features based on certain criteria/metric\n",
    "\n",
    "2) Select features with highest rankings\n",
    "\n",
    "#### Pros and Cons:\n",
    "* Fast\n",
    "* Does not contemplate feature redundancy\n",
    "* Does not take into account feature interaction\n",
    "\n",
    "* Evaluate if the variable is important to discriminate the target\n",
    "\n",
    "# Mutual Information:\n",
    "* a measure of the mutual dependence of 2 variables\n",
    "* Quantifies the \"amount of information\" gained about one random variable through observing the other random variable\n",
    "* Determines how similar the joint distribution p(X,Y) is to the products of the individual distributions p(X) and p(Y)\n",
    "* If X and Y are independent, their I is zero\n",
    "\n",
    "1) Rank the features: In scikit-learn: can use mutual_info_classif & mutual_info_regression\n",
    "\n",
    "2) Selecting the best ranking features:\n",
    "    * SelectKBest\n",
    "        * selects top k highest ranking features\n",
    "    * SelectPercentile\n",
    "        * selects features in the top percentile. User defines which percentile, e.g. 'top 10th'\n"
   ]
  },
  {
   "cell_type": "markdown",
   "metadata": {},
   "source": [
    "## Mutual Information Demo"
   ]
  },
  {
   "cell_type": "code",
   "execution_count": 1,
   "metadata": {},
   "outputs": [],
   "source": [
    "import numpy as np\n",
    "import pandas as pd\n",
    "\n",
    "import matplotlib.pyplot as plt\n",
    "\n",
    "from sklearn.model_selection import train_test_split\n",
    "\n",
    "# to obtain the mutual information values\n",
    "from sklearn.feature_selection import mutual_info_classif, mutual_info_regression\n",
    "\n",
    "# to select the features\n",
    "from sklearn.feature_selection import SelectKBest, SelectPercentile"
   ]
  },
  {
   "cell_type": "code",
   "execution_count": 2,
   "metadata": {},
   "outputs": [
    {
     "data": {
      "text/plain": [
       "(50000, 109)"
      ]
     },
     "execution_count": 2,
     "metadata": {},
     "output_type": "execute_result"
    }
   ],
   "source": [
    "# load dataset\n",
    "\n",
    "data = pd.read_csv('../precleaned-datasets/dataset_2.csv')\n",
    "data.shape"
   ]
  },
  {
   "cell_type": "code",
   "execution_count": 4,
   "metadata": {},
   "outputs": [
    {
     "data": {
      "text/plain": [
       "((35000, 108), (15000, 108))"
      ]
     },
     "execution_count": 4,
     "metadata": {},
     "output_type": "execute_result"
    }
   ],
   "source": [
    "# separate train and test sets\n",
    "X_train, X_test, y_train, y_test = train_test_split(\n",
    "    data.drop(labels=['target'], axis=1),\n",
    "    data['target'],\n",
    "    test_size=0.3,\n",
    "    random_state=0)\n",
    "\n",
    "X_train.shape, X_test.shape"
   ]
  },
  {
   "cell_type": "code",
   "execution_count": 5,
   "metadata": {},
   "outputs": [
    {
     "data": {
      "text/plain": [
       "array([0.00000000e+00, 3.47016229e-03, 0.00000000e+00, 9.64709927e-04,\n",
       "       3.79029452e-04, 5.10803287e-03, 4.99661842e-03, 3.01749128e-03,\n",
       "       0.00000000e+00, 0.00000000e+00, 7.21177036e-04, 1.02264758e-03,\n",
       "       5.46769147e-04, 4.85390074e-03, 0.00000000e+00, 1.70642925e-02,\n",
       "       0.00000000e+00, 0.00000000e+00, 2.65095846e-04, 0.00000000e+00,\n",
       "       3.97314147e-03, 0.00000000e+00, 0.00000000e+00, 0.00000000e+00,\n",
       "       1.07973971e-04, 0.00000000e+00, 0.00000000e+00, 0.00000000e+00,\n",
       "       1.59795182e-03, 1.50573185e-03, 0.00000000e+00, 0.00000000e+00,\n",
       "       4.82609500e-03, 1.69395865e-02, 0.00000000e+00, 2.16864672e-03,\n",
       "       7.78981457e-05, 1.85605395e-03, 3.48317905e-04, 0.00000000e+00,\n",
       "       0.00000000e+00, 0.00000000e+00, 2.17261807e-05, 3.15204932e-03,\n",
       "       9.67990072e-04, 1.79542479e-03, 0.00000000e+00, 6.44702550e-03,\n",
       "       0.00000000e+00, 4.72325908e-04, 0.00000000e+00, 2.69187892e-03,\n",
       "       0.00000000e+00, 3.57907806e-03, 4.07164953e-02, 1.70544548e-03,\n",
       "       3.61549169e-03, 0.00000000e+00, 2.42221065e-06, 2.68706132e-03,\n",
       "       0.00000000e+00, 0.00000000e+00, 9.62204242e-04, 0.00000000e+00,\n",
       "       3.56880757e-03, 0.00000000e+00, 0.00000000e+00, 1.74434654e-02,\n",
       "       0.00000000e+00, 6.27351552e-06, 2.29148165e-04, 4.20077934e-03,\n",
       "       2.49216250e-03, 8.05984747e-04, 1.42579929e-03, 1.90634347e-04,\n",
       "       4.30938997e-03, 0.00000000e+00, 3.45967593e-03, 2.44804653e-03,\n",
       "       1.34849389e-03, 4.89728364e-05, 0.00000000e+00, 0.00000000e+00,\n",
       "       3.96049904e-03, 0.00000000e+00, 0.00000000e+00, 0.00000000e+00,\n",
       "       3.41233881e-03, 2.75453786e-03, 2.62689356e-03, 0.00000000e+00,\n",
       "       8.16783589e-04, 1.24604433e-03, 7.33695590e-03, 2.82865275e-03,\n",
       "       3.46455662e-03, 5.69050324e-04, 3.95391138e-03, 2.61183619e-03,\n",
       "       3.12560189e-03, 2.63149735e-03, 6.28116545e-04, 0.00000000e+00,\n",
       "       1.89408574e-03, 0.00000000e+00, 1.91363824e-02, 0.00000000e+00])"
      ]
     },
     "execution_count": 5,
     "metadata": {},
     "output_type": "execute_result"
    }
   ],
   "source": [
    "# calculate the mutual information between the variables and the target\n",
    "# the smaller the value of the mi, the less information we can infer from\n",
    "# the feature about the target\n",
    "\n",
    "mi = mutual_info_classif(X_train, y_train)\n",
    "mi"
   ]
  },
  {
   "cell_type": "code",
   "execution_count": 6,
   "metadata": {},
   "outputs": [
    {
     "data": {
      "text/plain": [
       "Text(0, 0.5, 'Mutual Information')"
      ]
     },
     "execution_count": 6,
     "metadata": {},
     "output_type": "execute_result"
    },
    {
     "data": {
      "image/png": "[encoded data removed]",
      "text/plain": [
       "<Figure size 1440x432 with 1 Axes>"
      ]
     },
     "metadata": {
      "needs_background": "light"
     },
     "output_type": "display_data"
    }
   ],
   "source": [
    "# 1) let's capture the above array in a pandas series\n",
    "# 2) add the variable names in the index\n",
    "# 3) sort the features based on their mutual information value\n",
    "# 4) and make a var plot\n",
    "\n",
    "mi = pd.Series(mi)\n",
    "mi.index = X_train.columns\n",
    "mi.sort_values(ascending=False).plot.bar(figsize=(20, 6))\n",
    "plt.ylabel('Mutual Information')"
   ]
  },
  {
   "cell_type": "markdown",
   "metadata": {},
   "source": [
    "#### Observations:\n",
    "* There are a few features with higher mutual information values.\n",
    "* There are features with almost zero MI values on the right of the plot\n",
    "* We can now try to determine which features will be selected\n",
    "    * Select top k features, where k is an arbitrary number of features\n",
    "    * Select features in the top n percentile, where n is also an arbitrary number\n",
    "    * Select all features above a certain threshold of MI, arbitrarily decided"
   ]
  },
  {
   "cell_type": "markdown",
   "metadata": {},
   "source": [
    "#### Select top k features based on MI"
   ]
  },
  {
   "cell_type": "code",
   "execution_count": 7,
   "metadata": {},
   "outputs": [
    {
     "data": {
      "text/plain": [
       "Index(['var_6', 'var_7', 'var_14', 'var_16', 'var_34', 'var_55', 'var_69',\n",
       "       'var_91', 'var_96', 'var_108'],\n",
       "      dtype='object')"
      ]
     },
     "execution_count": 7,
     "metadata": {},
     "output_type": "execute_result"
    }
   ],
   "source": [
    "# select the top 10 features based on their mutual information value\n",
    "\n",
    "# select features\n",
    "sel_ = SelectKBest(mutual_info_classif, k=10).fit(X_train, y_train)\n",
    "\n",
    "# display features\n",
    "X_train.columns[sel_.get_support()]"
   ]
  },
  {
   "cell_type": "code",
   "execution_count": 8,
   "metadata": {},
   "outputs": [],
   "source": [
    "# to remove the rest of the features:\n",
    "\n",
    "X_train = sel_.transform(X_train)\n",
    "X_test = sel_.transform(X_test)"
   ]
  },
  {
   "cell_type": "markdown",
   "metadata": {},
   "source": [
    "#### Select top 10th percentile features"
   ]
  },
  {
   "cell_type": "code",
   "execution_count": 10,
   "metadata": {},
   "outputs": [],
   "source": [
    "# separate train and test sets\n",
    "X_train, X_test, y_train, y_test = train_test_split(\n",
    "    data.drop(labels=['target'], axis=1),\n",
    "    data['target'],\n",
    "    test_size=0.3,\n",
    "    random_state=0)"
   ]
  },
  {
   "cell_type": "code",
   "execution_count": 11,
   "metadata": {},
   "outputs": [
    {
     "data": {
      "text/plain": [
       "Index(['var_6', 'var_7', 'var_14', 'var_16', 'var_34', 'var_48', 'var_55',\n",
       "       'var_69', 'var_91', 'var_96', 'var_108'],\n",
       "      dtype='object')"
      ]
     },
     "execution_count": 11,
     "metadata": {},
     "output_type": "execute_result"
    }
   ],
   "source": [
    "# Select the features in the top percentile\n",
    "sel_ = SelectPercentile(mutual_info_classif, percentile=10).fit(X_train, y_train)\n",
    "\n",
    "# display the features\n",
    "X_train.columns[sel_.get_support()] #pretty much the same, added \"variable 48\""
   ]
  },
  {
   "cell_type": "markdown",
   "metadata": {},
   "source": [
    "# Chi-square Test\n",
    "* Used to determine if 2 samples of CATEGORICAL features were extracted from the same population\n",
    "* Compares the distributions of the categories\n",
    "\n",
    "#### Two main uses:\n",
    "1) Chi-square goodness of fit\n",
    "* to assess if a certain feature follows a hypothesized distribution\n",
    "    * For example, if gender has effect on survival. Compare the distrib of random sample with that of the expected\n",
    "    * With X^2 (chi-squared statistic), we can obtain an estimate of the probability based on the chi-squared distribution\n",
    "    * X^2 = sum ( (observed-expected) squared / expected)\n",
    "\n",
    "2) Chi square test of independence\n",
    "* compare or determine if two variables are associated\n",
    "\n",
    "Note:\n",
    "* Can only use chi-square if data contains:\n",
    "    * categorical variables\n",
    "    * binary or multi-class target\n",
    "    * We can assess the association of the categorical variable with the target.\n",
    "\n",
    "Ranking the features based on Chi-sqaure results:\n",
    "* Rank the features based on the p-value or chi-square\n",
    "    * The higher the chi-square or the lower the p-value, the more predictive the feature\n",
    "* Select the top ranking features\n",
    "    * Cut-off for top ranking features is arbitrary"
   ]
  },
  {
   "cell_type": "code",
   "execution_count": null,
   "metadata": {},
   "outputs": [],
   "source": []
  },
  {
   "cell_type": "code",
   "execution_count": null,
   "metadata": {},
   "outputs": [],
   "source": []
  },
  {
   "cell_type": "code",
   "execution_count": null,
   "metadata": {},
   "outputs": [],
   "source": []
  },
  {
   "cell_type": "code",
   "execution_count": null,
   "metadata": {},
   "outputs": [],
   "source": []
  },
  {
   "cell_type": "code",
   "execution_count": null,
   "metadata": {},
   "outputs": [],
   "source": []
  }
 ],
 "metadata": {
  "kernelspec": {
   "display_name": "Python 3",
   "language": "python",
   "name": "python3"
  },
  "language_info": {
   "codemirror_mode": {
    "name": "ipython",
    "version": 3
   },
   "file_extension": ".py",
   "mimetype": "text/x-python",
   "name": "python",
   "nbconvert_exporter": "python",
   "pygments_lexer": "ipython3",
   "version": "3.8.3"
  }
 },
 "nbformat": 4,
 "nbformat_minor": 4
}
