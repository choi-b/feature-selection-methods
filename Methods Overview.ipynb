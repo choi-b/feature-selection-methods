{
 "cells": [
  {
   "cell_type": "markdown",
   "metadata": {},
   "source": [
    "# Filter Methods\n",
    "\n",
    "* Rely on the characteristics of the data (feature characteristics)\n",
    "* Do not use ML algorithms at all\n",
    "* Model agnostic\n",
    "* Tend to be less computationally expensive\n",
    "* Usually give lower prediction performance than wrapper methods\n",
    "* Very well-suited for a quick screen and removal of irrelevant features\n",
    "\n",
    "#### Looks at things like:\n",
    "* Variance\n",
    "* Correlation\n",
    "* Univariate selection: observing the distribution of the values within the variable\n",
    "\n",
    "#### Two Step Procedure:\n",
    "1) Rank features according to a certain criteria\n",
    "- Each feature is ranked independently of the feature space\n",
    "\n",
    "2) Select the highest ranking features\n",
    "\n",
    "** May select redundant variables because they do not consider the relationships between features\n"
   ]
  },
  {
   "cell_type": "markdown",
   "metadata": {},
   "source": [
    "# Wrapper Methods\n",
    "\n",
    "* Use predictive ML models to score the feature subset\n",
    "* Train a new model on each feature subset\n",
    "* Tend to be very computationally expensive\n",
    "* Usually provide the best performing feature subset for a given ML algorithm\n",
    "* May not produce the best feature combination for a different ML model that was not used to select the features\n",
    "\n",
    "#### Looks at things like:\n",
    "* Forward selection\n",
    "* Backward selection\n",
    "* Exhaustive search: scans all the possible combinations of features to find the optimal feature combination"
   ]
  },
  {
   "cell_type": "markdown",
   "metadata": {},
   "source": [
    "# Embedded Methods\n",
    "\n",
    "* Perform feature selection as part of the model construction process\n",
    "* Consider the interaction between features and models\n",
    "* Less computationally expensive than wrapper methods because they fit the ML model only once\n",
    "\n",
    "#### Looks at things like:\n",
    "* LASSO\n",
    "* Tree importance"
   ]
  },
  {
   "cell_type": "code",
   "execution_count": null,
   "metadata": {},
   "outputs": [],
   "source": []
  },
  {
   "cell_type": "code",
   "execution_count": null,
   "metadata": {},
   "outputs": [],
   "source": []
  },
  {
   "cell_type": "code",
   "execution_count": null,
   "metadata": {},
   "outputs": [],
   "source": []
  },
  {
   "cell_type": "code",
   "execution_count": null,
   "metadata": {},
   "outputs": [],
   "source": []
  },
  {
   "cell_type": "code",
   "execution_count": null,
   "metadata": {},
   "outputs": [],
   "source": []
  },
  {
   "cell_type": "code",
   "execution_count": null,
   "metadata": {},
   "outputs": [],
   "source": []
  },
  {
   "cell_type": "code",
   "execution_count": null,
   "metadata": {},
   "outputs": [],
   "source": []
  },
  {
   "cell_type": "code",
   "execution_count": null,
   "metadata": {},
   "outputs": [],
   "source": []
  },
  {
   "cell_type": "code",
   "execution_count": null,
   "metadata": {},
   "outputs": [],
   "source": []
  },
  {
   "cell_type": "code",
   "execution_count": null,
   "metadata": {},
   "outputs": [],
   "source": []
  }
 ],
 "metadata": {
  "kernelspec": {
   "display_name": "Python 3",
   "language": "python",
   "name": "python3"
  },
  "language_info": {
   "codemirror_mode": {
    "name": "ipython",
    "version": 3
   },
   "file_extension": ".py",
   "mimetype": "text/x-python",
   "name": "python",
   "nbconvert_exporter": "python",
   "pygments_lexer": "ipython3",
   "version": "3.8.3"
  }
 },
 "nbformat": 4,
 "nbformat_minor": 4
}
