{
 "cells": [
  {
   "cell_type": "markdown",
   "metadata": {},
   "source": [
    "# Wrapper Methods\n",
    "\n",
    "* Greedy search algorithms\n",
    "* Utilizes a specific classifier to select the optimal set of features\n",
    "* Sequential feature selection algorithms add or remove one feature at the time based on the classifier performance until a feature subset of the desired size k is reached, or any other desired criteria is met\n",
    "\n",
    "<b>Three Types of Wrapper Methods</b>\n",
    "1. Step Forward Feature Selection - begin from no feature and add one at a time\n",
    "2. Step Backwards Feature Selection - begins from all the features and removes one feature at a time\n",
    "3. Exhaustive Feature Selection - tries all possible feature combinations\n",
    "\n",
    "<b>Wrapper Methods Summary:</b>\n",
    "* Extremely computationally expensive\n",
    "* Often not feasible due to high number of features in real world dataset\n",
    "* Feature space optimized for a specific algorithm\n",
    "* Should provide the highest performance"
   ]
  },
  {
   "cell_type": "code",
   "execution_count": null,
   "metadata": {},
   "outputs": [],
   "source": []
  }
 ],
 "metadata": {
  "kernelspec": {
   "display_name": "Python 3",
   "language": "python",
   "name": "python3"
  },
  "language_info": {
   "codemirror_mode": {
    "name": "ipython",
    "version": 3
   },
   "file_extension": ".py",
   "mimetype": "text/x-python",
   "name": "python",
   "nbconvert_exporter": "python",
   "pygments_lexer": "ipython3",
   "version": "3.8.3"
  }
 },
 "nbformat": 4,
 "nbformat_minor": 4
}
